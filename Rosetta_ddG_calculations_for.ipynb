{
  "cells": [
    {
      "cell_type": "code",
      "execution_count": null,
      "metadata": {
        "colab": {
          "base_uri": "https://localhost:8080/",
          "height": 17
        },
        "id": "L7svsQ9Mi7vl",
        "outputId": "470afac6-b73c-44f6-c4af-d7e88010218d"
      },
      "outputs": [
        {
          "name": "stderr",
          "output_type": "stream",
          "text": [
            "INFO:pyrosetta.rosetta:Found rosetta database at: /home/vesper/my_pyrosetta_package/pyrosetta/database; using it....\n",
            "INFO:pyrosetta.rosetta:┌──────────────────────────────────────────────────────────────────────────────┐\n",
            "│                                 PyRosetta-4                                  │\n",
            "│              Created in JHU by Sergey Lyskov and PyRosetta Team              │\n",
            "│              (C) Copyright Rosetta Commons Member Institutions               │\n",
            "│                                                                              │\n",
            "│ NOTE: USE OF PyRosetta FOR COMMERCIAL PURPOSES REQUIRE PURCHASE OF A LICENSE │\n",
            "│         See LICENSE.PyRosetta.md or email license@uw.edu for details         │\n",
            "└──────────────────────────────────────────────────────────────────────────────┘\n",
            "PyRosetta-4 2024 [Rosetta devel 2024.24.post.dev+4.main.f5ae1de8e146ed3da2662da903342c9c1ad0b046 2024-08-12T12:35:30] retrieved from: https://github.com/RosettaCommons/rosetta.git\n",
            "INFO:rosetta:core.init: Checking for fconfig files in pwd and ./rosetta/flags\n",
            "INFO:rosetta:core.init: Rosetta version: 2024.24.post.dev+4.main.f5ae1de8e1 f5ae1de8e146ed3da2662da903342c9c1ad0b046 https://github.com/RosettaCommons/rosetta.git 2024-08-12T12:35:30\n",
            "INFO:rosetta:core.init: Rosetta extras: []\n",
            "INFO:rosetta:core.init: command: PyRosetta -ex1 -ex2aro -database /home/vesper/my_pyrosetta_package/pyrosetta/database\n",
            "INFO:rosetta:basic.random.init_random_generator: 'RNG device' seed mode, using '/dev/urandom', seed=1549447434 seed_offset=0 real_seed=1549447434\n",
            "INFO:rosetta:basic.random.init_random_generator: RandomGenerator:init: Normal mode, seed=1549447434 RG_type=mt19937\n"
          ]
        },
        {
          "name": "stdout",
          "output_type": "stream",
          "text": [
            "┌──────────────────────────────────────────────────────────────────────────────┐\n",
            "│                                 PyRosetta-4                                  │\n",
            "│              Created in JHU by Sergey Lyskov and PyRosetta Team              │\n",
            "│              (C) Copyright Rosetta Commons Member Institutions               │\n",
            "│                                                                              │\n",
            "│ NOTE: USE OF PyRosetta FOR COMMERCIAL PURPOSES REQUIRE PURCHASE OF A LICENSE │\n",
            "│         See LICENSE.PyRosetta.md or email license@uw.edu for details         │\n",
            "└──────────────────────────────────────────────────────────────────────────────┘\n",
            "PyRosetta-4 2024 [Rosetta devel 2024.24.post.dev+4.main.f5ae1de8e146ed3da2662da903342c9c1ad0b046 2024-08-12T12:35:30] retrieved from: https://github.com/RosettaCommons/rosetta.git\n"
          ]
        },
        {
          "data": {
            "text/html": [
              "<style>.container { width:100% !important; }</style>"
            ],
            "text/plain": [
              "<IPython.core.display.HTML object>"
            ]
          },
          "metadata": {},
          "output_type": "display_data"
        }
      ],
      "source": [
        "import glob\n",
        "import logging\n",
        "logging.basicConfig(level=logging.INFO)\n",
        "import numpy as np\n",
        "import os\n",
        "import sys\n",
        "sys.path.append(\"/path/to/my_pyrosetta_package/\")\n",
        "import pyrosetta\n",
        "pyrosetta.init()\n",
        "import pyrosetta.distributed\n",
        "import pyrosetta.distributed.io as io\n",
        "import pyrosetta.distributed.viewer as viewer\n",
        "import sys\n",
        "import subprocess"
      ]
    },
    {
      "cell_type": "code",
      "execution_count": null,
      "metadata": {},
      "outputs": [
        {
          "name": "stderr",
          "output_type": "stream",
          "text": [
            "INFO:rdkit:Enabling RDKit 2024.03.5 jupyter extensions\n"
          ]
        },
        {
          "name": "stdout",
          "output_type": "stream",
          "text": [
            "\n",
            ">>> 处理配体：1919888-06-4\n",
            "============================================================================\n",
            "| ACPYPE: AnteChamber PYthon Parser interfacE v. 2023.10.27 (c) 2025 AWSdS |\n",
            "============================================================================\n",
            "==> ... charge set to 0\n",
            "==> Executing Antechamber...\n",
            "==> * Antechamber OK *\n",
            "==> * Parmchk OK *\n",
            "==> Executing Tleap...\n",
            "==> * Tleap OK *\n",
            "==> Removing temporary files...\n",
            "==> Using OpenBabel v.3.1.0\n",
            "\n",
            "==> Writing NEW PDB file\n",
            "\n",
            "==> Writing CNS/XPLOR files\n",
            "\n",
            "==> Writing GROMACS files\n",
            "\n",
            "==> Disambiguating lower and uppercase atomtypes in GMX top file, even if identical.\n",
            "\n",
            "==> Writing GMX dihedrals for GMX 4.5 and higher.\n",
            "\n",
            "==> Writing CHARMM files\n",
            "\n",
            "==> Writing pickle file 1919888-06-4.pkl\n",
            "==> Removing temporary files...\n",
            "Total time of execution: 1m 12s\n",
            "1919888-06-4.params 生成成功\n",
            "\n",
            ">>> 处理配体：918505-61-0\n",
            "============================================================================\n",
            "| ACPYPE: AnteChamber PYthon Parser interfacE v. 2023.10.27 (c) 2025 AWSdS |\n",
            "============================================================================\n",
            "==> ... charge set to -1\n",
            "==> Executing Antechamber...\n",
            "==> * Antechamber OK *\n",
            "==> * Parmchk OK *\n",
            "==> Executing Tleap...\n",
            "==> * Tleap OK *\n",
            "==> Removing temporary files...\n",
            "==> Using OpenBabel v.3.1.0\n",
            "\n",
            "==> Writing NEW PDB file\n",
            "\n",
            "==> Writing CNS/XPLOR files\n",
            "\n",
            "==> Writing GROMACS files\n",
            "\n",
            "==> Disambiguating lower and uppercase atomtypes in GMX top file, even if identical.\n",
            "\n",
            "==> Writing GMX dihedrals for GMX 4.5 and higher.\n",
            "\n",
            "==> Writing CHARMM files\n",
            "\n",
            "==> Writing pickle file 918505-61-0.pkl\n",
            "==> Removing temporary files...\n",
            "Total time of execution: 33s\n",
            "918505-61-0.params 生成成功\n",
            "\n",
            ">>> 处理配体：lig1\n",
            "============================================================================\n",
            "| ACPYPE: AnteChamber PYthon Parser interfacE v. 2023.10.27 (c) 2025 AWSdS |\n",
            "============================================================================\n",
            "==> ... charge set to -1\n",
            "==> Executing Antechamber...\n",
            "==> * Antechamber OK *\n",
            "==> * Parmchk OK *\n",
            "==> Executing Tleap...\n",
            "==> * Tleap OK *\n",
            "==> Removing temporary files...\n",
            "==> Using OpenBabel v.3.1.0\n",
            "\n",
            "==> Writing NEW PDB file\n",
            "\n",
            "==> Writing CNS/XPLOR files\n",
            "\n",
            "==> Writing GROMACS files\n",
            "\n",
            "==> Disambiguating lower and uppercase atomtypes in GMX top file, even if identical.\n",
            "\n",
            "==> Writing GMX dihedrals for GMX 4.5 and higher.\n",
            "\n",
            "==> Writing CHARMM files\n",
            "\n",
            "==> Writing pickle file lig1.pkl\n",
            "==> Removing temporary files...\n",
            "Total time of execution: 19s\n",
            "LIG1.params 生成成功\n",
            "\n",
            "所有配体处理完成！\n"
          ]
        }
      ],
      "source": [
        "import glob\n",
        "import os\n",
        "import subprocess\n",
        "from rdkit import Chem\n",
        "\n",
        "# 设置路径\n",
        "pdb_file = \"8tze.pdb\" # 输入的 PDB 文件\n",
        "protein_pdb = \"pro.pdb\" # 输出的蛋白质 PDB 文件\n",
        "\n",
        "ligand_files = sorted(glob.glob(\"ligands/*.mol2\")) # 输入的配体文件夹\n",
        "\n",
        "rosetta_script = \"/path/to/install/rosetta/source/scripts/python/public/molfile_to_params.py\"\n",
        "\n",
        "# === 分离蛋白和配体 ===\n",
        "subprocess.run(f\"grep ^ATOM {pdb_file} > {protein_pdb}\", shell=True)\n",
        "\n",
        "\n",
        "\n",
        "# 计算电荷\n",
        "\n",
        "def get_formal_charge(mol2_file):\n",
        "    mol = Chem.MolFromMol2File(mol2_file, sanitize=True)\n",
        "    if mol is None:\n",
        "        raise ValueError(f\"无法读取 {mol2_file}\")\n",
        "    return Chem.GetFormalCharge(mol)\n",
        "\n",
        "\n",
        "# === 处理配体 ===\n",
        "for ligand_mol2 in ligand_files:\n",
        "    ligand_name = os.path.splitext(os.path.basename(ligand_mol2))[0]\n",
        "    params_file = f\"{ligand_name.upper()}.params\"\n",
        "\n",
        "    print(f\"\\n>>> 处理配体：{ligand_name}\")\n",
        "\n",
        "    charge = get_formal_charge(ligand_mol2)\n",
        "    subprocess.run(f\"acpype -i {ligand_mol2} -n {charge} -a gaff\", shell=True)\n",
        "\n",
        "    # 2. 寻找 ACPYPE 输出的 mol2 文件\n",
        "    ligand_gaff_candidates = glob.glob(f\"{ligand_name}.acpype/*_bcc_gaff.mol2\")\n",
        "    if not ligand_gaff_candidates:\n",
        "        raise FileNotFoundError(f\"未找到 {ligand_name}.acpype 下的 *_bcc_gaff.mol2，ACPYPE 可能失败！\")\n",
        "    ligand_gaff = ligand_gaff_candidates[0]\n",
        "\n",
        "    # 3. 修正 GAFF 原子类型\n",
        "    with open(ligand_gaff, \"r\") as f:\n",
        "        content = f.readlines()\n",
        "\n",
        "    fix_dict = {\n",
        "        \"c3\": \"C\", \"ca\": \"C\", \"cg\": \"C\", \"ch\": \"C\", \"cd\": \"C\", \"cc\": \"C\",\"cp\": \"C\", \"c\": \"C\",\n",
        "        \"nd\": \"N\", \"na\": \"N\", \"n3\": \"N\", \"n2\": \"N\", \"n4\": \"N\", \"NH\": \"N\", \"n\": \"N\",  \"nh\": \"N\", \"nc\": \"N\", \"NC\": \"N\",\n",
        "        \"o3\": \"O\",\n",
        "        \"o\": \"O\", \"o2\": \"O\",\n",
        "        \"f\": \"F\",\n",
        "        \"s6\": \"S\", \"s4\": \"S\",\n",
        "        \"cl\": \"Cl\",\n",
        "        \"br\": \"Br\",\n",
        "        \"i\": \"I\",\n",
        "        \"p3\": \"P\",\n",
        "        \"h1\": \"H\", \"h4\": \"H\", \"ha\": \"H\", \"hn\": \"H\", \"HC\": \"H\", \"hc\": \"H\", \"ho\": \"H\", \"hs\": \"H\", \"hx\": \"H\",\n",
        "    }\n",
        "\n",
        "    fixed_content = []\n",
        "    for line in content:\n",
        "        split_line = line.split()\n",
        "        if len(split_line) > 5:\n",
        "            atom_type = split_line[5]\n",
        "            if atom_type in fix_dict:\n",
        "                split_line[5] = fix_dict[atom_type]\n",
        "                line = \" \".join(split_line) + \"\\n\"\n",
        "        fixed_content.append(line)\n",
        "\n",
        "    with open(ligand_gaff, \"w\") as f:\n",
        "        f.writelines(fixed_content)\n",
        "\n",
        "    # 4. 生成 Rosetta params 文件\n",
        "    rosetta_cmd = f\"python {rosetta_script} -n {ligand_name.upper()} --extra_torsion_output {ligand_gaff} --clobber\"\n",
        "    result = subprocess.run(rosetta_cmd, shell=True, capture_output=True, text=True)\n",
        "\n",
        "    if result.returncode != 0:\n",
        "        raise RuntimeError(f\"错误: `molfile_to_params.py` 运行失败！\\n{result.stderr}\")\n",
        "\n",
        "    if not os.path.exists(params_file):\n",
        "        raise RuntimeError(f\"错误: `{params_file}` 未生成！\")\n",
        "\n",
        "    print(f\"{params_file} 生成成功\")\n",
        "\n",
        "print(\"\\n所有配体处理完成！\")\n"
      ]
    },
    {
      "cell_type": "code",
      "execution_count": 3,
      "metadata": {
        "colab": {
          "base_uri": "https://localhost:8080/"
        },
        "id": "2bJf1ok53Kgx",
        "outputId": "7094b8c0-8228-4c35-e8a7-51e684e8d3e6"
      },
      "outputs": [
        {
          "name": "stderr",
          "output_type": "stream",
          "text": [
            "INFO:pyrosetta.rosetta:Found rosetta database at: /home/vesper/my_pyrosetta_package/pyrosetta/database; using it....\n",
            "INFO:pyrosetta.rosetta:┌──────────────────────────────────────────────────────────────────────────────┐\n",
            "│                                 PyRosetta-4                                  │\n",
            "│              Created in JHU by Sergey Lyskov and PyRosetta Team              │\n",
            "│              (C) Copyright Rosetta Commons Member Institutions               │\n",
            "│                                                                              │\n",
            "│ NOTE: USE OF PyRosetta FOR COMMERCIAL PURPOSES REQUIRE PURCHASE OF A LICENSE │\n",
            "│         See LICENSE.PyRosetta.md or email license@uw.edu for details         │\n",
            "└──────────────────────────────────────────────────────────────────────────────┘\n",
            "PyRosetta-4 2024 [Rosetta devel 2024.24.post.dev+4.main.f5ae1de8e146ed3da2662da903342c9c1ad0b046 2024-08-12T12:35:30] retrieved from: https://github.com/RosettaCommons/rosetta.git\n",
            "INFO:rosetta:core.init: Checking for fconfig files in pwd and ./rosetta/flags\n",
            "INFO:rosetta:core.init: Rosetta version: 2024.24.post.dev+4.main.f5ae1de8e1 f5ae1de8e146ed3da2662da903342c9c1ad0b046 https://github.com/RosettaCommons/rosetta.git 2024-08-12T12:35:30\n",
            "INFO:rosetta:core.init: Rosetta extras: []\n",
            "INFO:rosetta:core.init: command: PyRosetta -ex1 -ex2aro -database /home/vesper/my_pyrosetta_package/pyrosetta/database\n",
            "INFO:rosetta:basic.random.init_random_generator: 'RNG device' seed mode, using '/dev/urandom', seed=-1816282679 seed_offset=0 real_seed=-1816282679\n",
            "INFO:rosetta:basic.random.init_random_generator: RandomGenerator:init: Normal mode, seed=-1816282679 RG_type=mt19937\n"
          ]
        },
        {
          "name": "stdout",
          "output_type": "stream",
          "text": [
            "┌──────────────────────────────────────────────────────────────────────────────┐\n",
            "│                                 PyRosetta-4                                  │\n",
            "│              Created in JHU by Sergey Lyskov and PyRosetta Team              │\n",
            "│              (C) Copyright Rosetta Commons Member Institutions               │\n",
            "│                                                                              │\n",
            "│ NOTE: USE OF PyRosetta FOR COMMERCIAL PURPOSES REQUIRE PURCHASE OF A LICENSE │\n",
            "│         See LICENSE.PyRosetta.md or email license@uw.edu for details         │\n",
            "└──────────────────────────────────────────────────────────────────────────────┘\n",
            "PyRosetta-4 2024 [Rosetta devel 2024.24.post.dev+4.main.f5ae1de8e146ed3da2662da903342c9c1ad0b046 2024-08-12T12:35:30] retrieved from: https://github.com/RosettaCommons/rosetta.git\n"
          ]
        },
        {
          "name": "stderr",
          "output_type": "stream",
          "text": [
            "INFO:rosetta:core.chemical.GlobalResidueTypeSet: Finished initializing fa_standard residue type set.  Created 985 residue types\n",
            "INFO:rosetta:core.chemical.GlobalResidueTypeSet: Total time to initialize 0.513777 seconds.\n",
            "INFO:rosetta:core.import_pose.import_pose: File 'pro.pdb' automatically determined to be of type PDB\n",
            "INFO:rosetta:core.conformation.Conformation: [ WARNING ] missing heavyatom:  CG1 on residue ILE 3\n",
            "INFO:rosetta:core.conformation.Conformation: [ WARNING ] missing heavyatom:  CG2 on residue ILE 3\n",
            "INFO:rosetta:core.conformation.Conformation: [ WARNING ] missing heavyatom:  CD1 on residue ILE 3\n",
            "INFO:rosetta:core.conformation.Conformation: [ WARNING ] missing heavyatom:  OG  on residue SER 4\n",
            "INFO:rosetta:core.conformation.Conformation: [ WARNING ] missing heavyatom:  CG  on residue ARG 5\n",
            "INFO:rosetta:core.conformation.Conformation: [ WARNING ] missing heavyatom:  CD  on residue ARG 5\n",
            "INFO:rosetta:core.conformation.Conformation: [ WARNING ] missing heavyatom:  NE  on residue ARG 5\n",
            "INFO:rosetta:core.conformation.Conformation: [ WARNING ] missing heavyatom:  CZ  on residue ARG 5\n",
            "INFO:rosetta:core.conformation.Conformation: [ WARNING ] missing heavyatom:  NH1 on residue ARG 5\n",
            "INFO:rosetta:core.conformation.Conformation: [ WARNING ] missing heavyatom:  NH2 on residue ARG 5\n",
            "INFO:rosetta:core.conformation.Conformation: [ WARNING ] missing heavyatom:  CG  on residue LYS 12\n",
            "INFO:rosetta:core.conformation.Conformation: [ WARNING ] missing heavyatom:  CD  on residue LYS 12\n",
            "INFO:rosetta:core.conformation.Conformation: [ WARNING ] missing heavyatom:  CE  on residue LYS 12\n",
            "INFO:rosetta:core.conformation.Conformation: [ WARNING ] missing heavyatom:  NZ  on residue LYS 12\n",
            "INFO:rosetta:core.conformation.Conformation: [ WARNING ] missing heavyatom:  CG  on residue GLU 25\n",
            "INFO:rosetta:core.conformation.Conformation: [ WARNING ] missing heavyatom:  CD  on residue GLU 25\n",
            "INFO:rosetta:core.conformation.Conformation: [ WARNING ] missing heavyatom:  OE1 on residue GLU 25\n",
            "INFO:rosetta:core.conformation.Conformation: [ WARNING ] missing heavyatom:  OE2 on residue GLU 25\n",
            "INFO:rosetta:core.conformation.Conformation: [ WARNING ] missing heavyatom:  CG  on residue GLU 26\n",
            "INFO:rosetta:core.conformation.Conformation: [ WARNING ] missing heavyatom:  CD  on residue GLU 26\n",
            "INFO:rosetta:core.conformation.Conformation: [ WARNING ] missing heavyatom:  OE1 on residue GLU 26\n",
            "INFO:rosetta:core.conformation.Conformation: [ WARNING ] missing heavyatom:  OE2 on residue GLU 26\n",
            "INFO:rosetta:core.conformation.Conformation: [ WARNING ] missing heavyatom:  CG  on residue TYR 27\n",
            "INFO:rosetta:core.conformation.Conformation: [ WARNING ] missing heavyatom:  CD1 on residue TYR 27\n",
            "INFO:rosetta:core.conformation.Conformation: [ WARNING ] missing heavyatom:  CD2 on residue TYR 27\n",
            "INFO:rosetta:core.conformation.Conformation: [ WARNING ] missing heavyatom:  CE1 on residue TYR 27\n",
            "INFO:rosetta:core.conformation.Conformation: [ WARNING ] missing heavyatom:  CE2 on residue TYR 27\n",
            "INFO:rosetta:core.conformation.Conformation: [ WARNING ] missing heavyatom:  CZ  on residue TYR 27\n",
            "INFO:rosetta:core.conformation.Conformation: [ WARNING ] missing heavyatom:  OH  on residue TYR 27\n",
            "INFO:rosetta:core.conformation.Conformation: [ WARNING ] missing heavyatom:  CG  on residue LEU 28\n",
            "INFO:rosetta:core.conformation.Conformation: [ WARNING ] missing heavyatom:  CD1 on residue LEU 28\n",
            "INFO:rosetta:core.conformation.Conformation: [ WARNING ] missing heavyatom:  CD2 on residue LEU 28\n",
            "INFO:rosetta:core.conformation.Conformation: [ WARNING ] missing heavyatom:  CG  on residue LYS 696\n",
            "INFO:rosetta:core.conformation.Conformation: [ WARNING ] missing heavyatom:  CD  on residue LYS 696\n",
            "INFO:rosetta:core.conformation.Conformation: [ WARNING ] missing heavyatom:  CE  on residue LYS 696\n",
            "INFO:rosetta:core.conformation.Conformation: [ WARNING ] missing heavyatom:  NZ  on residue LYS 696\n",
            "INFO:rosetta:core.conformation.Conformation: [ WARNING ] missing heavyatom:  OXT on residue ARG:CtermProteinFull 787\n",
            "INFO:rosetta:core.pack.pack_missing_sidechains: packing residue number 3 because of missing atom number 6 atom name  CG1\n",
            "INFO:rosetta:core.pack.pack_missing_sidechains: packing residue number 4 because of missing atom number 6 atom name  OG\n",
            "INFO:rosetta:core.pack.pack_missing_sidechains: packing residue number 5 because of missing atom number 6 atom name  CG\n",
            "INFO:rosetta:core.pack.pack_missing_sidechains: packing residue number 12 because of missing atom number 6 atom name  CG\n",
            "INFO:rosetta:core.pack.pack_missing_sidechains: packing residue number 25 because of missing atom number 6 atom name  CG\n",
            "INFO:rosetta:core.pack.pack_missing_sidechains: packing residue number 26 because of missing atom number 6 atom name  CG\n",
            "INFO:rosetta:core.pack.pack_missing_sidechains: packing residue number 27 because of missing atom number 6 atom name  CG\n",
            "INFO:rosetta:core.pack.pack_missing_sidechains: packing residue number 28 because of missing atom number 6 atom name  CG\n",
            "INFO:rosetta:core.pack.pack_missing_sidechains: packing residue number 696 because of missing atom number 6 atom name  CG\n",
            "INFO:rosetta:core.pack.task: Packer task: initialize from command line()\n",
            "INFO:rosetta:core.scoring.ScoreFunctionFactory: SCOREFUNCTION: ref2015\n",
            "INFO:rosetta:core.scoring.etable: Starting energy table calculation\n",
            "INFO:rosetta:core.scoring.etable: smooth_etable: changing atr/rep split to bottom of energy well\n",
            "INFO:rosetta:core.scoring.etable: smooth_etable: spline smoothing lj etables (maxdis = 6)\n",
            "INFO:rosetta:core.scoring.etable: smooth_etable: spline smoothing solvation etables (max_dis = 6)\n",
            "INFO:rosetta:core.scoring.etable: Finished calculating energy tables.\n",
            "INFO:rosetta:basic.io.database: Database file opened: scoring/score_functions/hbonds/ref2015_params/HBPoly1D.csv\n",
            "INFO:rosetta:basic.io.database: Database file opened: scoring/score_functions/hbonds/ref2015_params/HBFadeIntervals.csv\n",
            "INFO:rosetta:basic.io.database: Database file opened: scoring/score_functions/hbonds/ref2015_params/HBEval.csv\n",
            "INFO:rosetta:basic.io.database: Database file opened: scoring/score_functions/hbonds/ref2015_params/DonStrength.csv\n",
            "INFO:rosetta:basic.io.database: Database file opened: scoring/score_functions/hbonds/ref2015_params/AccStrength.csv\n",
            "INFO:rosetta:basic.io.database: Database file opened: scoring/score_functions/rama/fd/all.ramaProb\n",
            "INFO:rosetta:basic.io.database: Database file opened: scoring/score_functions/rama/fd/prepro.ramaProb\n",
            "INFO:rosetta:basic.io.database: Database file opened: scoring/score_functions/omega/omega_ppdep.all.txt\n",
            "INFO:rosetta:basic.io.database: Database file opened: scoring/score_functions/omega/omega_ppdep.gly.txt\n",
            "INFO:rosetta:basic.io.database: Database file opened: scoring/score_functions/omega/omega_ppdep.pro.txt\n",
            "INFO:rosetta:basic.io.database: Database file opened: scoring/score_functions/omega/omega_ppdep.valile.txt\n",
            "INFO:rosetta:basic.io.database: Database file opened: scoring/score_functions/P_AA_pp/P_AA\n",
            "INFO:rosetta:basic.io.database: Database file opened: scoring/score_functions/P_AA_pp/P_AA_n\n",
            "INFO:rosetta:core.scoring.P_AA: shapovalov_lib::shap_p_aa_pp_smooth_level of 1( aka low_smooth ) got activated.\n",
            "INFO:rosetta:basic.io.database: Database file opened: scoring/score_functions/P_AA_pp/shapovalov/10deg/kappa131/a20.prop\n",
            "INFO:rosetta:basic.io.database: Database file opened: scoring/score_functions/elec_cp_reps.dat\n",
            "INFO:rosetta:core.scoring.elec.util: Read 40 countpair representative atoms\n",
            "INFO:rosetta:core.pack.dunbrack.RotamerLibrary: shapovalov_lib_fixes_enable option is true.\n",
            "INFO:rosetta:core.pack.dunbrack.RotamerLibrary: shapovalov_lib::shap_dun10_smooth_level of 1( aka lowest_smooth ) got activated.\n",
            "INFO:rosetta:core.pack.dunbrack.RotamerLibrary: Binary rotamer library selected: /home/vesper/my_pyrosetta_package/pyrosetta/database/rotamer/shapovalov/StpDwn_0-0-0/Dunbrack10.lib.bin\n",
            "INFO:rosetta:core.pack.dunbrack.RotamerLibrary: Using Dunbrack library binary file '/home/vesper/my_pyrosetta_package/pyrosetta/database/rotamer/shapovalov/StpDwn_0-0-0/Dunbrack10.lib.bin'.\n",
            "INFO:rosetta:core.pack.dunbrack.RotamerLibrary: Dunbrack 2010 library took 0.142764 seconds to load from binary\n",
            "INFO:rosetta:core.pack.pack_rotamers: built 140 rotamers at 9 positions.\n",
            "INFO:rosetta:core.pack.interaction_graph.interaction_graph_factory: Instantiating DensePDInteractionGraph\n",
            "INFO:rosetta:core.import_pose.import_pose: File 'pro.clean.pdb' automatically determined to be of type PDB\n",
            "INFO:rosetta:core.conformation.Conformation: [ WARNING ] missing heavyatom:  CG1 on residue ILE 3\n",
            "INFO:rosetta:core.conformation.Conformation: [ WARNING ] missing heavyatom:  CG2 on residue ILE 3\n",
            "INFO:rosetta:core.conformation.Conformation: [ WARNING ] missing heavyatom:  CD1 on residue ILE 3\n",
            "INFO:rosetta:core.conformation.Conformation: [ WARNING ] missing heavyatom:  OG  on residue SER 4\n",
            "INFO:rosetta:core.conformation.Conformation: [ WARNING ] missing heavyatom:  CG  on residue ARG 5\n",
            "INFO:rosetta:core.conformation.Conformation: [ WARNING ] missing heavyatom:  CD  on residue ARG 5\n",
            "INFO:rosetta:core.conformation.Conformation: [ WARNING ] missing heavyatom:  NE  on residue ARG 5\n",
            "INFO:rosetta:core.conformation.Conformation: [ WARNING ] missing heavyatom:  CZ  on residue ARG 5\n",
            "INFO:rosetta:core.conformation.Conformation: [ WARNING ] missing heavyatom:  NH1 on residue ARG 5\n",
            "INFO:rosetta:core.conformation.Conformation: [ WARNING ] missing heavyatom:  NH2 on residue ARG 5\n",
            "INFO:rosetta:core.conformation.Conformation: [ WARNING ] missing heavyatom:  CG  on residue LYS 12\n",
            "INFO:rosetta:core.conformation.Conformation: [ WARNING ] missing heavyatom:  CD  on residue LYS 12\n",
            "INFO:rosetta:core.conformation.Conformation: [ WARNING ] missing heavyatom:  CE  on residue LYS 12\n",
            "INFO:rosetta:core.conformation.Conformation: [ WARNING ] missing heavyatom:  NZ  on residue LYS 12\n",
            "INFO:rosetta:core.conformation.Conformation: [ WARNING ] missing heavyatom:  CG  on residue GLU 25\n",
            "INFO:rosetta:core.conformation.Conformation: [ WARNING ] missing heavyatom:  CD  on residue GLU 25\n",
            "INFO:rosetta:core.conformation.Conformation: [ WARNING ] missing heavyatom:  OE1 on residue GLU 25\n",
            "INFO:rosetta:core.conformation.Conformation: [ WARNING ] missing heavyatom:  OE2 on residue GLU 25\n",
            "INFO:rosetta:core.conformation.Conformation: [ WARNING ] missing heavyatom:  CG  on residue GLU 26\n",
            "INFO:rosetta:core.conformation.Conformation: [ WARNING ] missing heavyatom:  CD  on residue GLU 26\n",
            "INFO:rosetta:core.conformation.Conformation: [ WARNING ] missing heavyatom:  OE1 on residue GLU 26\n",
            "INFO:rosetta:core.conformation.Conformation: [ WARNING ] missing heavyatom:  OE2 on residue GLU 26\n",
            "INFO:rosetta:core.conformation.Conformation: [ WARNING ] missing heavyatom:  CG  on residue TYR 27\n",
            "INFO:rosetta:core.conformation.Conformation: [ WARNING ] missing heavyatom:  CD1 on residue TYR 27\n",
            "INFO:rosetta:core.conformation.Conformation: [ WARNING ] missing heavyatom:  CD2 on residue TYR 27\n",
            "INFO:rosetta:core.conformation.Conformation: [ WARNING ] missing heavyatom:  CE1 on residue TYR 27\n",
            "INFO:rosetta:core.conformation.Conformation: [ WARNING ] missing heavyatom:  CE2 on residue TYR 27\n",
            "INFO:rosetta:core.conformation.Conformation: [ WARNING ] missing heavyatom:  CZ  on residue TYR 27\n",
            "INFO:rosetta:core.conformation.Conformation: [ WARNING ] missing heavyatom:  OH  on residue TYR 27\n",
            "INFO:rosetta:core.conformation.Conformation: [ WARNING ] missing heavyatom:  CG  on residue LEU 28\n",
            "INFO:rosetta:core.conformation.Conformation: [ WARNING ] missing heavyatom:  CD1 on residue LEU 28\n",
            "INFO:rosetta:core.conformation.Conformation: [ WARNING ] missing heavyatom:  CD2 on residue LEU 28\n",
            "INFO:rosetta:core.conformation.Conformation: [ WARNING ] missing heavyatom:  CG  on residue LYS 696\n",
            "INFO:rosetta:core.conformation.Conformation: [ WARNING ] missing heavyatom:  CD  on residue LYS 696\n",
            "INFO:rosetta:core.conformation.Conformation: [ WARNING ] missing heavyatom:  CE  on residue LYS 696\n",
            "INFO:rosetta:core.conformation.Conformation: [ WARNING ] missing heavyatom:  NZ  on residue LYS 696\n",
            "INFO:rosetta:core.conformation.Conformation: [ WARNING ] missing heavyatom:  OXT on residue ARG:CtermProteinFull 787\n",
            "INFO:rosetta:core.pack.pack_missing_sidechains: packing residue number 3 because of missing atom number 6 atom name  CG1\n",
            "INFO:rosetta:core.pack.pack_missing_sidechains: packing residue number 4 because of missing atom number 6 atom name  OG\n",
            "INFO:rosetta:core.pack.pack_missing_sidechains: packing residue number 5 because of missing atom number 6 atom name  CG\n",
            "INFO:rosetta:core.pack.pack_missing_sidechains: packing residue number 12 because of missing atom number 6 atom name  CG\n",
            "INFO:rosetta:core.pack.pack_missing_sidechains: packing residue number 25 because of missing atom number 6 atom name  CG\n",
            "INFO:rosetta:core.pack.pack_missing_sidechains: packing residue number 26 because of missing atom number 6 atom name  CG\n",
            "INFO:rosetta:core.pack.pack_missing_sidechains: packing residue number 27 because of missing atom number 6 atom name  CG\n",
            "INFO:rosetta:core.pack.pack_missing_sidechains: packing residue number 28 because of missing atom number 6 atom name  CG\n",
            "INFO:rosetta:core.pack.pack_missing_sidechains: packing residue number 696 because of missing atom number 6 atom name  CG\n",
            "INFO:rosetta:core.pack.task: Packer task: initialize from command line()\n",
            "INFO:rosetta:core.scoring.ScoreFunctionFactory: SCOREFUNCTION: ref2015\n",
            "INFO:rosetta:core.pack.pack_rotamers: built 140 rotamers at 9 positions.\n",
            "INFO:rosetta:core.pack.interaction_graph.interaction_graph_factory: Instantiating DensePDInteractionGraph\n"
          ]
        }
      ],
      "source": [
        "from pyrosetta import init, pose_from_pdb\n",
        "from pyrosetta.toolbox import cleanATOM\n",
        "\n",
        "# 初始化 PyRosetta\n",
        "init()\n",
        "\n",
        "# 清理 PDB 文件，只保留 ATOM 行\n",
        "cleanATOM(\"pro.pdb\")  # 生成的是 pro.clean.pdb\n",
        "\n",
        "# 加载原始和清理后的 Pose\n",
        "pose = pose_from_pdb(\"pro.pdb\")\n",
        "pose_clean = pose_from_pdb(\"pro.clean.pdb\")\n"
      ]
    },
    {
      "cell_type": "code",
      "execution_count": 4,
      "metadata": {
        "id": "_kzQOD5vtZnf"
      },
      "outputs": [
        {
          "data": {
            "text/plain": [
              "'G[GLY:NtermProteinFull]IISRRDVEYFKLLEKFQIALPIGEEYLLVPSSLSDHRPVIELPHCENSEIIIRLYEMPYFPMGFWSRLINRLLEISPYMLLRPNRMYWRQGIYLNWSPEAYCLVGSEVLDNHPESFLKITVPSCRKGCILLGQVVDHIDSLMEEWFPGLLEIETLLKKWALYSFNDGEEHQKILLDDLMKKAEEGDLLVNPDQPRLTIPISQIAPDLILADLPRNIMLNNDELEFEQAPEFLLGDGSFGSVYRAAYEGEEVAVKIFNKHTSLRLLRQELVVLCHLHHPSLISLLAAGIRPRMLVMELASKGSLDRLLQQDKASLTRTLQHRIALHVADGLRYLHSAMIIYRDLKPHNVLLFTLYPNAAIIAKIADYGIPGFRAPEVARGYNQQADVYSFGLLLYDILTTGGRIVLPDPVKEYGCAPWPMVEKLIKQCLKENPQERPTSAQVFDILNSAELVCLTRRILLPKNVIVECMVATHHASIWLGCGHTDRGQLSFLDLNTEGYTSEEVADSRILCLALVHLESWIVSGTQSGTLLVINTEDGKHTLEKMTDSVTCLYCNFLLVGTADGKLAIFEDKTVKLKGAAPLKILNIGNVSTPLMCLSESNVMWGGCGTKIFSFSNDFTIQKLIETRTSQLFSYAAFSDSNIITVVVDTALYIAKQNSPVVEVWDKKTEKLCGLIDCVHFLREVMSGRVKTLCLQKNTALWIGTGGGHILLLDLSTRRLIRVIYNFCNSVRVMMTAQLGSLKNVMLVLGYNREIQSCLTVWDINLPHEVQNLEKHIEVRKELAEKMR[ARG:CtermProteinFull]'"
            ]
          },
          "execution_count": 4,
          "metadata": {},
          "output_type": "execute_result"
        }
      ],
      "source": [
        "import difflib\n",
        "\n",
        "def find_difference_difflib(str1, str2):\n",
        "    d = difflib.Differ()\n",
        "    diff = list(d.compare(str1, str2))\n",
        "    return '|'.join(diff)\n",
        "\n",
        "# Differences between uncleaned and cleaned sequences\n",
        "find_difference_difflib(pose.sequence(),\n",
        "                        pose_clean.sequence())\n",
        "\n",
        "# non-canonical amino acids and hetatms are spelled out more explicitly now\n",
        "pose.annotated_sequence()\n",
        "\n",
        "\n",
        "# non-canonical amino acids and hetero atoms (`hetatms`) are spelled out more explicitly now\n",
        "pose_clean.annotated_sequence()"
      ]
    },
    {
      "cell_type": "code",
      "execution_count": 5,
      "metadata": {
        "colab": {
          "base_uri": "https://localhost:8080/"
        },
        "id": "XgYkNs6fpmS_",
        "outputId": "29bcffdf-1508-4294-a7d1-6886c4a176f4"
      },
      "outputs": [],
      "source": [
        "# Iterate over atoms and identify heteroatoms\n",
        "for residue_id in range(1, pose.size() + 1):\n",
        "    residue = pose.residue(residue_id)\n",
        "    if residue.is_metal():\n",
        "        print(f\"HETATM found in residue {residue_id}: {residue.name3()}\")"
      ]
    },
    {
      "cell_type": "code",
      "execution_count": 6,
      "metadata": {
        "id": "P7YdjFiaySui"
      },
      "outputs": [],
      "source": [
        "# Iterate over atoms and identify heteroatoms\n",
        "for residue_id in range(1, pose_clean.size() + 1):\n",
        "    residue = pose_clean.residue(residue_id)\n",
        "    if residue.is_metal():\n",
        "        print(f\"HETATM found in residue {residue_id}: {residue.name3()}\")"
      ]
    },
    {
      "cell_type": "code",
      "execution_count": 7,
      "metadata": {
        "colab": {
          "base_uri": "https://localhost:8080/"
        },
        "id": "BMFSBwgmw5oZ",
        "outputId": "b210c618-9a72-4ef9-9361-de3e95b1f201"
      },
      "outputs": [
        {
          "name": "stdout",
          "output_type": "stream",
          "text": [
            "1\n"
          ]
        }
      ],
      "source": [
        "# Count the number of chains in the pose\n",
        "print(pose_clean.num_chains())"
      ]
    },
    {
      "cell_type": "code",
      "execution_count": null,
      "metadata": {
        "colab": {
          "base_uri": "https://localhost:8080/"
        },
        "id": "bYlV8mcMy6w-",
        "outputId": "ca877402-faac-4921-ec61-483592c4ed62"
      },
      "outputs": [
        {
          "name": "stdout",
          "output_type": "stream",
          "text": [
            "PDB file name: pro.clean.pdb\n",
            " Pose Range  Chain    PDB Range  |   #Residues         #Atoms\n",
            "\n",
            "0001 -- 0009    A 1624  -- 1632  |   0009 residues;    00149 atoms\n",
            "0010 -- 0081    A 1649  -- 1720  |   0072 residues;    01229 atoms\n",
            "0082 -- 0153    A 1727  -- 1798  |   0072 residues;    01172 atoms\n",
            "0154 -- 0369    A 1805  -- 2020  |   0216 residues;    03500 atoms\n",
            "0370 -- 0380    A 2036  -- 2046  |   0011 residues;    00163 atoms\n",
            "0381 -- 0405    A 2050  -- 2074  |   0025 residues;    00395 atoms\n",
            "0406 -- 0474    A 2092  -- 2160  |   0069 residues;    01122 atoms\n",
            "0475 -- 0517    A 2165  -- 2207  |   0043 residues;    00647 atoms\n",
            "0518 -- 0539    A 2212  -- 2233  |   0022 residues;    00323 atoms\n",
            "0540 -- 0554    A 2236  -- 2250  |   0015 residues;    00233 atoms\n",
            "0555 -- 0600    A 2261  -- 2306  |   0046 residues;    00704 atoms\n",
            "0601 -- 0685    A 2313  -- 2397  |   0085 residues;    01350 atoms\n",
            "0686 -- 0752    A 2411  -- 2477  |   0067 residues;    01085 atoms\n",
            "0753 -- 0787    A 2488  -- 2522  |   0035 residues;    00596 atoms\n",
            "                           TOTAL |   0787 residues;    12668 atoms\n",
            "\n"
          ]
        }
      ],
      "source": [
        "# Access the information corresponding to the PDB file\n",
        "print(pose_clean.pdb_info())   # 看pose id 的方法"
      ]
    },
    {
      "cell_type": "code",
      "execution_count": 9,
      "metadata": {
        "colab": {
          "base_uri": "https://localhost:8080/"
        },
        "id": "G5pV6Lt3617j",
        "outputId": "6435002c-cd78-45b1-a842-185aecbaa02e"
      },
      "outputs": [
        {
          "name": "stdout",
          "output_type": "stream",
          "text": [
            "Chain A: GIISRRDVEYFKLLEKFQIALPIGEEYLLVPSSLSDHRPVIELPHCENSEIIIRLYEMPYFPMGFWSRLINRLLEISPYMLLRPNRMYWRQGIYLNWSPEAYCLVGSEVLDNHPESFLKITVPSCRKGCILLGQVVDHIDSLMEEWFPGLLEIETLLKKWALYSFNDGEEHQKILLDDLMKKAEEGDLLVNPDQPRLTIPISQIAPDLILADLPRNIMLNNDELEFEQAPEFLLGDGSFGSVYRAAYEGEEVAVKIFNKHTSLRLLRQELVVLCHLHHPSLISLLAAGIRPRMLVMELASKGSLDRLLQQDKASLTRTLQHRIALHVADGLRYLHSAMIIYRDLKPHNVLLFTLYPNAAIIAKIADYGIPGFRAPEVARGYNQQADVYSFGLLLYDILTTGGRIVLPDPVKEYGCAPWPMVEKLIKQCLKENPQERPTSAQVFDILNSAELVCLTRRILLPKNVIVECMVATHHASIWLGCGHTDRGQLSFLDLNTEGYTSEEVADSRILCLALVHLESWIVSGTQSGTLLVINTEDGKHTLEKMTDSVTCLYCNFLLVGTADGKLAIFEDKTVKLKGAAPLKILNIGNVSTPLMCLSESNVMWGGCGTKIFSFSNDFTIQKLIETRTSQLFSYAAFSDSNIITVVVDTALYIAKQNSPVVEVWDKKTEKLCGLIDCVHFLREVMSGRVKTLCLQKNTALWIGTGGGHILLLDLSTRRLIRVIYNFCNSVRVMMTAQLGSLKNVMLVLGYNREIQSCLTVWDINLPHEVQNLEKHIEVRKELAEKMR\n"
          ]
        }
      ],
      "source": [
        "for k, v in pyrosetta.rosetta.core.pose.conf2pdb_chain(pose_clean).items():\n",
        "    print(f\"Chain {v}: {pose_clean.chain_sequence(k)}\")"
      ]
    }
  ],
  "metadata": {
    "colab": {
      "authorship_tag": "ABX9TyOgx7EtvAsvf97oWWNuWO6o",
      "include_colab_link": true,
      "machine_shape": "hm",
      "provenance": []
    },
    "kernelspec": {
      "display_name": "chemprop",
      "language": "python",
      "name": "python3"
    },
    "language_info": {
      "codemirror_mode": {
        "name": "ipython",
        "version": 3
      },
      "file_extension": ".py",
      "mimetype": "text/x-python",
      "name": "python",
      "nbconvert_exporter": "python",
      "pygments_lexer": "ipython3",
      "version": "3.12.5"
    }
  },
  "nbformat": 4,
  "nbformat_minor": 0
}
